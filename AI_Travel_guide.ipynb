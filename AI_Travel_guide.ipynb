{
 "cells": [
  {
   "cell_type": "markdown",
   "id": "bd312965",
   "metadata": {},
   "source": [
    "# 0.)Authenticate"
   ]
  },
  {
   "cell_type": "code",
   "execution_count": 8,
   "id": "f1df874e",
   "metadata": {},
   "outputs": [],
   "source": [
    "lt_apikey = 'g7GvFJVxiiX3Og3ah33aVsmLg2egmWK2KS1jh-VecULm'\n",
    "\n",
    "lt_url = 'https://api.eu-gb.language-translator.watson.cloud.ibm.com/instances/727a3a45-8385-4d20-9396-4c1160bb05ba'\n",
    "\n",
    "tts_apikey = 'McPLvaUHWywOhceFBH4i7fG38nRm42el297e8DYkGLfp'\n",
    "\n",
    "tts_url = 'https://api.eu-gb.text-to-speech.watson.cloud.ibm.com/instances/d04b5ea5-e6b9-4eba-b127-94c30a27cec5'"
   ]
  },
  {
   "cell_type": "code",
   "execution_count": 9,
   "id": "dbf7db12",
   "metadata": {},
   "outputs": [],
   "source": [
    "#import dependancies\n",
    "from ibm_watson import LanguageTranslatorV3\n",
    "from ibm_watson import TextToSpeechV1\n",
    "from ibm_cloud_sdk_core.authenticators import IAMAuthenticator\n"
   ]
  },
  {
   "cell_type": "code",
   "execution_count": 10,
   "id": "ae816aaa",
   "metadata": {},
   "outputs": [],
   "source": [
    "#authentication for text to speech service\n",
    "authenticator = IAMAuthenticator(tts_apikey)\n",
    "#tts setrvice\n",
    "tts = TextToSpeechV1(authenticator=authenticator)\n",
    "#service url\n",
    "tts.set_service_url(tts_url)"
   ]
  },
  {
   "cell_type": "code",
   "execution_count": 11,
   "id": "0bbc6818",
   "metadata": {},
   "outputs": [],
   "source": [
    "#authentication for language translator service\n",
    "authenticator = IAMAuthenticator(lt_apikey)\n",
    "lt = LanguageTranslatorV3(version='2018-05-01', authenticator=authenticator)\n",
    "lt.set_service_url(lt_url)"
   ]
  },
  {
   "cell_type": "markdown",
   "id": "2061ae51",
   "metadata": {},
   "source": [
    "# 1.)Build Guide"
   ]
  },
  {
   "cell_type": "code",
   "execution_count": 12,
   "id": "7bfa3476",
   "metadata": {},
   "outputs": [],
   "source": [
    "translation = lt.translate(text='hello can you tell me your name', model_id='en-de').get_result()"
   ]
  },
  {
   "cell_type": "code",
   "execution_count": 13,
   "id": "6a7d3489",
   "metadata": {},
   "outputs": [
    {
     "data": {
      "text/plain": [
       "'hallo kannst du mir deinen namen sagen'"
      ]
     },
     "execution_count": 13,
     "metadata": {},
     "output_type": "execute_result"
    }
   ],
   "source": [
    "text = translation['translations'][0]['translation']\n",
    "\n",
    "text"
   ]
  },
  {
   "cell_type": "code",
   "execution_count": 14,
   "id": "b7357b38",
   "metadata": {},
   "outputs": [],
   "source": [
    "with open('./help.mp3', 'wb') as audio_file:\n",
    "    res = tts.synthesize(text, accept='audio/mp3', voice='de-DE_BirgitV3Voice').get_result()\n",
    "    audio_file.write(res.content)"
   ]
  },
  {
   "cell_type": "code",
   "execution_count": null,
   "id": "504618dd",
   "metadata": {},
   "outputs": [],
   "source": []
  }
 ],
 "metadata": {
  "kernelspec": {
   "display_name": "Python 3",
   "language": "python",
   "name": "python3"
  },
  "language_info": {
   "codemirror_mode": {
    "name": "ipython",
    "version": 3
   },
   "file_extension": ".py",
   "mimetype": "text/x-python",
   "name": "python",
   "nbconvert_exporter": "python",
   "pygments_lexer": "ipython3",
   "version": "3.8.8"
  }
 },
 "nbformat": 4,
 "nbformat_minor": 5
}
